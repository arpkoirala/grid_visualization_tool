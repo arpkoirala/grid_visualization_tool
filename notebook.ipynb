{
 "cells": [
  {
   "cell_type": "code",
   "execution_count": null,
   "metadata": {},
   "outputs": [],
   "source": [
    "import pandas as pd\n",
    "import pandapower as pp\n",
    "import pandapower.plotting as pplt\n",
    "import pandapower.topology as top\n",
    "import networkx as nx\n",
    "import plotly as plot\n",
    "import pandapower.plotting.plotly as pplotly\n",
    "\n",
    "import plotly.graph_objects as go\n",
    "import numpy as np\n",
    "from pandapower.plotting.plotly import get_plotly_color_palette\n",
    "\n",
    "\n",
    "from create_net import createLVnet, createMVnet\n",
    "\n",
    "from dash import Dash, html, dcc, Output, Input\n",
    "import dash_bootstrap_components as dbc\n",
    "import plotly.express as px\n",
    "\n",
    "import plotly.graph_objects as go\n",
    "import networkx as nx\n",
    "import dash_cytoscape as cyto\n",
    "\n",
    "\n",
    "\n",
    "import pandas as pd\n",
    "import pandapower as pp\n",
    "import pandapower.plotting as pplt\n",
    "import pandapower.topology as top\n",
    "import networkx as nx\n",
    "import plotly as plot\n",
    "import pandapower.plotting.plotly as pplotly\n",
    "\n",
    "import plotly.graph_objects as go\n",
    "import numpy as np\n",
    "from pandapower.plotting.plotly import get_plotly_color_palette\n",
    "from create_net import createLVnet, createMVnet\n",
    "\n",
    "from numpy import floor"
   ]
  },
  {
   "cell_type": "code",
   "execution_count": null,
   "metadata": {},
   "outputs": [],
   "source": [
    "##### creating MV net #####\n",
    "pathMV = 'data/MV_benchmarks/'\n",
    "netMV = createMVnet(pathMV+'bus33.json')\n",
    "\n",
    "pp.runpp(netMV)\n",
    "\n",
    "print(netMV.bus.head())"
   ]
  },
  {
   "cell_type": "code",
   "execution_count": null,
   "metadata": {},
   "outputs": [],
   "source": [
    "lc = pplotly.create_line_trace(netMV,netMV.line[netMV.line.in_service == True].index, width=1.5, color='black')\n",
    "bc = pplotly.create_bus_trace(netMV, netMV.bus.index, size=5, color=\"orange\", infofunc=pd.Series(index=netMV.bus.index, data = 'Bus ' + netMV.bus.index.astype(str) + '<br>' + netMV.bus.vn_kv.astype(str) + ' kV'), trace_name='buses')\n",
    "sc = pplotly.create_bus_trace(netMV, netMV.ext_grid.bus.values, size=5,patch_type=\"square\", color='blue', trace_name='external connection')\n",
    "# pplt.simple_plotly(netMV)\n",
    "figMV = pplotly.draw_traces(lc + bc + sc, figsize=1, aspectratio=(8,6))\n"
   ]
  },
  {
   "cell_type": "code",
   "execution_count": null,
   "metadata": {},
   "outputs": [],
   "source": [
    "figMV.write_html('figMV.html')"
   ]
  },
  {
   "cell_type": "code",
   "execution_count": null,
   "metadata": {},
   "outputs": [],
   "source": [
    "\n",
    "##### creating LV net #####\n",
    "pathLV = 'data/spanish_LV_net/'\n",
    "\n",
    "bus_df = pd.read_excel(pathLV+'bus_df.xlsx')\n",
    "bus_df= bus_df.drop(columns={'Unnamed: 0'})\n",
    "\n",
    "ext_grid_df = pd.read_excel(pathLV+'ext_grid_df.xlsx')\n",
    "\n",
    "line_df = pd.read_excel(pathLV+'line_df.xlsx')\n",
    "line_df = line_df.drop(columns={'Unnamed: 0'})\n",
    "\n",
    "\n",
    "load_per_bus_df = pd.read_excel(pathLV+'load_per_bus_df.xlsx')\n",
    "\n",
    "netLV = createLVnet(bus_df, line_df, ext_grid_df, load_per_bus_df)\n",
    "\n",
    "pp.runpp(netLV)\n"
   ]
  },
  {
   "cell_type": "code",
   "execution_count": null,
   "metadata": {},
   "outputs": [],
   "source": [
    "netLV.res_bus.vm_pu.values"
   ]
  },
  {
   "cell_type": "code",
   "execution_count": null,
   "metadata": {},
   "outputs": [],
   "source": [
    "\n",
    "pandanet = netLV\n",
    "green_to_red = ['#00FF00','#11FF00','#22FF00','#33FF00','#44FF00','#55FF00','#66FF00','#77FF00','#88FF00','#99FF00',\n",
    "                '#AAFF00','#BBFF00','#CCFF00','#DDFF00','#EEFF00','#FFFF00','#FFEE00','#FFDD00','#FFCC00','#FFAA00','#FF9900','#FF8800',\n",
    "                '#FF7700','#FF6600','#FF5500','#FF4400','#FF3300','#FF2200','#FF1100','#FF0000']\n",
    "def generate_stylesheet(bus_size,line_size):\n",
    "    all_styles = [{\n",
    "                    'selector': '.ext_grid',\n",
    "                    'style': {\n",
    "                        'background-color': 'yellow',\n",
    "                        'shape': 'diamond',\n",
    "                        'height': bus_size,\n",
    "                        'width' : bus_size,\n",
    "                        'border-width': 0.2,\n",
    "                        'border-color': 'black',\n",
    "                        }\n",
    "                },\n",
    "                {\n",
    "                    'selector': '.buswhite',\n",
    "                    'style': {\n",
    "                        'background-color': 'white',\n",
    "                        'width' : bus_size,\n",
    "                        'height' : bus_size,\n",
    "                        'border-width': 0.2,\n",
    "                        'border-color': 'black',\n",
    "                        }\n",
    "                },\n",
    "                {\n",
    "                    'selector': '.line-overloaded',\n",
    "                    'style':{\n",
    "                        'line-color': green_to_red[29],\n",
    "                        'width': line_size*2}\n",
    "                },\n",
    "                {\n",
    "                    'selector': '.line-loaded-50-100',\n",
    "                    'style':{\n",
    "                        'line-color': green_to_red[14],\n",
    "                        'width': line_size*1.5}\n",
    "                },\n",
    "                {\n",
    "                    'selector': '.line-loaded-0-50',\n",
    "                    'style':{\n",
    "                        'line-color': green_to_red[0],\n",
    "                        'width': line_size}\n",
    "                },\n",
    "                {\n",
    "                    'selector': '.line-black',\n",
    "                    'style':{\n",
    "                        'line-color': 'black',\n",
    "                        'width': line_size}\n",
    "                },\n",
    "                ]\n",
    "    for hexcode in green_to_red:\n",
    "        all_styles.append({\n",
    "                    'selector': '.' + hexcode,\n",
    "                    'style': {\n",
    "                        'background-color': hexcode,\n",
    "                        'width' : bus_size,\n",
    "                        'height' : bus_size,\n",
    "                        'border-width': 0.2,\n",
    "                        'border-color': 'black',\n",
    "                        }\n",
    "                },)\n",
    "\n",
    "\n",
    "    return all_styles\n",
    "\n",
    "a = generate_stylesheet(2.0,1.0)\n",
    "print(a)"
   ]
  },
  {
   "cell_type": "code",
   "execution_count": null,
   "metadata": {},
   "outputs": [],
   "source": [
    "from turtle import color\n",
    "from numpy import floor\n",
    "\n",
    "\n",
    "vlevels = pandanet.res_bus.vm_pu.values\n",
    "gran = 6\n",
    "maxgran = 30\n",
    "diff = (1-vlevels)/0.05*gran\n",
    "classis = floor(diff)\n",
    "colorindex = classis*maxgran/gran\n",
    "colorindex.astype(int)\n",
    "print(colorindex)\n",
    "\n"
   ]
  },
  {
   "cell_type": "code",
   "execution_count": null,
   "metadata": {},
   "outputs": [],
   "source": [
    "# lc = pplotly.create_line_trace(netLV,netLV.line.index, width=1.5, color='black')\n",
    "# bc = pplotly.create_bus_trace(netLV, netLV.bus.index, size=2, color=\"orange\", infofunc=pd.Series(index=netLV.bus.index, data='Bus '+ netLV.bus.index.astype(str) + '<br>' + netLV.bus.vn_kv.astype(str) + ' kV'))\n",
    "# sc = pplotly.create_bus_trace(netLV, netLV.ext_grid.bus.values, size=2,patch_type=\"square\", color='blue')\n",
    "# figLV = pplotly.draw_traces(lc + bc + sc, figsize=1, aspectratio=(8,6))"
   ]
  }
 ],
 "metadata": {
  "kernelspec": {
   "display_name": "Python 3.10.5 64-bit (windows store)",
   "language": "python",
   "name": "python3"
  },
  "language_info": {
   "codemirror_mode": {
    "name": "ipython",
    "version": 3
   },
   "file_extension": ".py",
   "mimetype": "text/x-python",
   "name": "python",
   "nbconvert_exporter": "python",
   "pygments_lexer": "ipython3",
   "version": "3.10.6"
  },
  "orig_nbformat": 4,
  "vscode": {
   "interpreter": {
    "hash": "7defa1a2a8e4a1bb956967327feafc32b8e565009fa48258845f5d815b926459"
   }
  }
 },
 "nbformat": 4,
 "nbformat_minor": 2
}
