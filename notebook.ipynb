{
 "cells": [
  {
   "cell_type": "code",
   "execution_count": 7,
   "metadata": {},
   "outputs": [],
   "source": [
    "import pandas as pd\n",
    "import pandapower as pp\n",
    "import pandapower.plotting as pplt\n",
    "import pandapower.topology as top\n",
    "import networkx as nx\n",
    "import plotly as plot\n",
    "import pandapower.plotting.plotly as pplotly\n",
    "\n",
    "import plotly.graph_objects as go\n",
    "import numpy as np\n",
    "from pandapower.plotting.plotly import get_plotly_color_palette\n",
    "\n",
    "\n",
    "from create_net import createLVnet, createMVnet\n",
    "\n",
    "from dash import Dash, html, dcc, Output, Input\n",
    "import dash_bootstrap_components as dbc\n",
    "import plotly.express as px\n",
    "\n",
    "import plotly.graph_objects as go\n",
    "import networkx as nx\n",
    "import dash_cytoscape as cyto\n",
    "\n",
    "\n",
    "\n",
    "import pandas as pd\n",
    "import pandapower as pp\n",
    "import pandapower.plotting as pplt\n",
    "import pandapower.topology as top\n",
    "import networkx as nx\n",
    "import plotly as plot\n",
    "import pandapower.plotting.plotly as pplotly\n",
    "\n",
    "import plotly.graph_objects as go\n",
    "import numpy as np\n",
    "from pandapower.plotting.plotly import get_plotly_color_palette\n",
    "from create_net import createLVnet, createMVnet\n",
    "\n",
    "from numpy import floor"
   ]
  },
  {
   "cell_type": "code",
   "execution_count": null,
   "metadata": {},
   "outputs": [],
   "source": [
    "##### creating MV net #####\n",
    "pathMV = 'data/MV_benchmarks/'\n",
    "netMV = createMVnet(pathMV+'bus33.json')\n",
    "\n",
    "pp.runpp(netMV)\n",
    "\n",
    "print(netMV.bus.head())"
   ]
  },
  {
   "cell_type": "code",
   "execution_count": null,
   "metadata": {},
   "outputs": [],
   "source": [
    "lc = pplotly.create_line_trace(netMV,netMV.line[netMV.line.in_service == True].index, width=1.5, color='black')\n",
    "bc = pplotly.create_bus_trace(netMV, netMV.bus.index, size=5, color=\"orange\", infofunc=pd.Series(index=netMV.bus.index, data = 'Bus ' + netMV.bus.index.astype(str) + '<br>' + netMV.bus.vn_kv.astype(str) + ' kV'), trace_name='buses')\n",
    "sc = pplotly.create_bus_trace(netMV, netMV.ext_grid.bus.values, size=5,patch_type=\"square\", color='blue', trace_name='external connection')\n",
    "# pplt.simple_plotly(netMV)\n",
    "figMV = pplotly.draw_traces(lc + bc + sc, figsize=1, aspectratio=(8,6))\n"
   ]
  },
  {
   "cell_type": "code",
   "execution_count": null,
   "metadata": {},
   "outputs": [],
   "source": [
    "figMV.write_html('figMV.html')"
   ]
  },
  {
   "cell_type": "code",
   "execution_count": 8,
   "metadata": {},
   "outputs": [],
   "source": [
    "\n",
    "##### creating LV net #####\n",
    "pathLV = 'data/spanish_LV_net/'\n",
    "\n",
    "bus_df = pd.read_excel(pathLV+'bus_df.xlsx')\n",
    "bus_df= bus_df.drop(columns={'Unnamed: 0'})\n",
    "\n",
    "ext_grid_df = pd.read_excel(pathLV+'ext_grid_df.xlsx')\n",
    "\n",
    "line_df = pd.read_excel(pathLV+'line_df.xlsx')\n",
    "line_df = line_df.drop(columns={'Unnamed: 0'})\n",
    "\n",
    "\n",
    "load_per_bus_df = pd.read_excel(pathLV+'load_per_bus_df.xlsx')\n",
    "\n",
    "netLV = createLVnet(bus_df, line_df, ext_grid_df, load_per_bus_df)\n",
    "\n",
    "pp.runpp(netLV)\n"
   ]
  },
  {
   "cell_type": "code",
   "execution_count": 12,
   "metadata": {},
   "outputs": [
    {
     "name": "stdout",
     "output_type": "stream",
     "text": [
      "[{'selector': '.ext_grid', 'style': {'background-color': 'yellow', 'shape': 'diamond', 'height': 2.0, 'width': 2.0, 'border-width': 0.2, 'border-color': 'black'}}, {'selector': '.buswhite', 'style': {'background-color': 'white', 'width': 2.0, 'height': 2.0, 'border-width': 0.2, 'border-color': 'black'}}, {'selector': '.line-overloaded', 'style': {'line-color': '#FF0000', 'width': 2.0}}, {'selector': '.line-loaded-50-100', 'style': {'line-color': '#EEFF00', 'width': 1.5}}, {'selector': '.line-loaded-0-50', 'style': {'line-color': '#00FF00', 'width': 1.0}}, {'selector': '.line-black', 'style': {'line-color': 'black', 'width': 1.0}}, {'selector': '.#00FF00', 'style': {'background-color': '#00FF00', 'width': 2.0, 'height': 2.0, 'border-width': 0.2, 'border-color': 'black'}}, {'selector': '.#11FF00', 'style': {'background-color': '#11FF00', 'width': 2.0, 'height': 2.0, 'border-width': 0.2, 'border-color': 'black'}}, {'selector': '.#22FF00', 'style': {'background-color': '#22FF00', 'width': 2.0, 'height': 2.0, 'border-width': 0.2, 'border-color': 'black'}}, {'selector': '.#33FF00', 'style': {'background-color': '#33FF00', 'width': 2.0, 'height': 2.0, 'border-width': 0.2, 'border-color': 'black'}}, {'selector': '.#44FF00', 'style': {'background-color': '#44FF00', 'width': 2.0, 'height': 2.0, 'border-width': 0.2, 'border-color': 'black'}}, {'selector': '.#55FF00', 'style': {'background-color': '#55FF00', 'width': 2.0, 'height': 2.0, 'border-width': 0.2, 'border-color': 'black'}}, {'selector': '.#66FF00', 'style': {'background-color': '#66FF00', 'width': 2.0, 'height': 2.0, 'border-width': 0.2, 'border-color': 'black'}}, {'selector': '.#77FF00', 'style': {'background-color': '#77FF00', 'width': 2.0, 'height': 2.0, 'border-width': 0.2, 'border-color': 'black'}}, {'selector': '.#88FF00', 'style': {'background-color': '#88FF00', 'width': 2.0, 'height': 2.0, 'border-width': 0.2, 'border-color': 'black'}}, {'selector': '.#99FF00', 'style': {'background-color': '#99FF00', 'width': 2.0, 'height': 2.0, 'border-width': 0.2, 'border-color': 'black'}}, {'selector': '.#AAFF00', 'style': {'background-color': '#AAFF00', 'width': 2.0, 'height': 2.0, 'border-width': 0.2, 'border-color': 'black'}}, {'selector': '.#BBFF00', 'style': {'background-color': '#BBFF00', 'width': 2.0, 'height': 2.0, 'border-width': 0.2, 'border-color': 'black'}}, {'selector': '.#CCFF00', 'style': {'background-color': '#CCFF00', 'width': 2.0, 'height': 2.0, 'border-width': 0.2, 'border-color': 'black'}}, {'selector': '.#DDFF00', 'style': {'background-color': '#DDFF00', 'width': 2.0, 'height': 2.0, 'border-width': 0.2, 'border-color': 'black'}}, {'selector': '.#EEFF00', 'style': {'background-color': '#EEFF00', 'width': 2.0, 'height': 2.0, 'border-width': 0.2, 'border-color': 'black'}}, {'selector': '.#FFFF00', 'style': {'background-color': '#FFFF00', 'width': 2.0, 'height': 2.0, 'border-width': 0.2, 'border-color': 'black'}}, {'selector': '.#FFEE00', 'style': {'background-color': '#FFEE00', 'width': 2.0, 'height': 2.0, 'border-width': 0.2, 'border-color': 'black'}}, {'selector': '.#FFDD00', 'style': {'background-color': '#FFDD00', 'width': 2.0, 'height': 2.0, 'border-width': 0.2, 'border-color': 'black'}}, {'selector': '.#FFCC00', 'style': {'background-color': '#FFCC00', 'width': 2.0, 'height': 2.0, 'border-width': 0.2, 'border-color': 'black'}}, {'selector': '.#FFAA00', 'style': {'background-color': '#FFAA00', 'width': 2.0, 'height': 2.0, 'border-width': 0.2, 'border-color': 'black'}}, {'selector': '.#FF9900', 'style': {'background-color': '#FF9900', 'width': 2.0, 'height': 2.0, 'border-width': 0.2, 'border-color': 'black'}}, {'selector': '.#FF8800', 'style': {'background-color': '#FF8800', 'width': 2.0, 'height': 2.0, 'border-width': 0.2, 'border-color': 'black'}}, {'selector': '.#FF7700', 'style': {'background-color': '#FF7700', 'width': 2.0, 'height': 2.0, 'border-width': 0.2, 'border-color': 'black'}}, {'selector': '.#FF6600', 'style': {'background-color': '#FF6600', 'width': 2.0, 'height': 2.0, 'border-width': 0.2, 'border-color': 'black'}}, {'selector': '.#FF5500', 'style': {'background-color': '#FF5500', 'width': 2.0, 'height': 2.0, 'border-width': 0.2, 'border-color': 'black'}}, {'selector': '.#FF4400', 'style': {'background-color': '#FF4400', 'width': 2.0, 'height': 2.0, 'border-width': 0.2, 'border-color': 'black'}}, {'selector': '.#FF3300', 'style': {'background-color': '#FF3300', 'width': 2.0, 'height': 2.0, 'border-width': 0.2, 'border-color': 'black'}}, {'selector': '.#FF2200', 'style': {'background-color': '#FF2200', 'width': 2.0, 'height': 2.0, 'border-width': 0.2, 'border-color': 'black'}}, {'selector': '.#FF1100', 'style': {'background-color': '#FF1100', 'width': 2.0, 'height': 2.0, 'border-width': 0.2, 'border-color': 'black'}}, {'selector': '.#FF0000', 'style': {'background-color': '#FF0000', 'width': 2.0, 'height': 2.0, 'border-width': 0.2, 'border-color': 'black'}}]\n"
     ]
    }
   ],
   "source": [
    "\n",
    "pandanet = netLV\n",
    "green_to_red = ['#00FF00','#11FF00','#22FF00','#33FF00','#44FF00','#55FF00','#66FF00','#77FF00','#88FF00','#99FF00',\n",
    "                '#AAFF00','#BBFF00','#CCFF00','#DDFF00','#EEFF00','#FFFF00','#FFEE00','#FFDD00','#FFCC00','#FFAA00','#FF9900','#FF8800',\n",
    "                '#FF7700','#FF6600','#FF5500','#FF4400','#FF3300','#FF2200','#FF1100','#FF0000']\n",
    "def generate_stylesheet(bus_size,line_size):\n",
    "    all_styles = [{\n",
    "                    'selector': '.ext_grid',\n",
    "                    'style': {\n",
    "                        'background-color': 'yellow',\n",
    "                        'shape': 'diamond',\n",
    "                        'height': bus_size,\n",
    "                        'width' : bus_size,\n",
    "                        'border-width': 0.2,\n",
    "                        'border-color': 'black',\n",
    "                        }\n",
    "                },\n",
    "                {\n",
    "                    'selector': '.buswhite',\n",
    "                    'style': {\n",
    "                        'background-color': 'white',\n",
    "                        'width' : bus_size,\n",
    "                        'height' : bus_size,\n",
    "                        'border-width': 0.2,\n",
    "                        'border-color': 'black',\n",
    "                        }\n",
    "                },\n",
    "                {\n",
    "                    'selector': '.line-overloaded',\n",
    "                    'style':{\n",
    "                        'line-color': green_to_red[29],\n",
    "                        'width': line_size*2}\n",
    "                },\n",
    "                {\n",
    "                    'selector': '.line-loaded-50-100',\n",
    "                    'style':{\n",
    "                        'line-color': green_to_red[14],\n",
    "                        'width': line_size*1.5}\n",
    "                },\n",
    "                {\n",
    "                    'selector': '.line-loaded-0-50',\n",
    "                    'style':{\n",
    "                        'line-color': green_to_red[0],\n",
    "                        'width': line_size}\n",
    "                },\n",
    "                {\n",
    "                    'selector': '.line-black',\n",
    "                    'style':{\n",
    "                        'line-color': 'black',\n",
    "                        'width': line_size}\n",
    "                },\n",
    "                ]\n",
    "    for hexcode in green_to_red:\n",
    "        all_styles.append({\n",
    "                    'selector': '.' + hexcode,\n",
    "                    'style': {\n",
    "                        'background-color': hexcode,\n",
    "                        'width' : bus_size,\n",
    "                        'height' : bus_size,\n",
    "                        'border-width': 0.2,\n",
    "                        'border-color': 'black',\n",
    "                        }\n",
    "                },)\n",
    "\n",
    "\n",
    "    return all_styles\n",
    "\n",
    "a = generate_stylesheet(2.0,1.0)\n",
    "print(a)"
   ]
  },
  {
   "cell_type": "code",
   "execution_count": 206,
   "metadata": {},
   "outputs": [
    {
     "name": "stdout",
     "output_type": "stream",
     "text": [
      "[0. 5. 5. ... 0. 0. 0.]\n"
     ]
    }
   ],
   "source": [
    "from turtle import color\n",
    "from numpy import floor\n",
    "\n",
    "\n",
    "vlevels = pandanet.res_bus.vm_pu.values\n",
    "gran = 6\n",
    "maxgran = 30\n",
    "diff = (1-vlevels)/0.05*gran\n",
    "classis = floor(diff)\n",
    "colorindex = classis*maxgran/gran\n",
    "colorindex.astype(int)\n",
    "print(colorindex)\n",
    "\n"
   ]
  },
  {
   "cell_type": "code",
   "execution_count": null,
   "metadata": {},
   "outputs": [],
   "source": [
    "# lc = pplotly.create_line_trace(netLV,netLV.line.index, width=1.5, color='black')\n",
    "# bc = pplotly.create_bus_trace(netLV, netLV.bus.index, size=2, color=\"orange\", infofunc=pd.Series(index=netLV.bus.index, data='Bus '+ netLV.bus.index.astype(str) + '<br>' + netLV.bus.vn_kv.astype(str) + ' kV'))\n",
    "# sc = pplotly.create_bus_trace(netLV, netLV.ext_grid.bus.values, size=2,patch_type=\"square\", color='blue')\n",
    "# figLV = pplotly.draw_traces(lc + bc + sc, figsize=1, aspectratio=(8,6))"
   ]
  }
 ],
 "metadata": {
  "kernelspec": {
   "display_name": "Python 3.10.5 64-bit (windows store)",
   "language": "python",
   "name": "python3"
  },
  "language_info": {
   "codemirror_mode": {
    "name": "ipython",
    "version": 3
   },
   "file_extension": ".py",
   "mimetype": "text/x-python",
   "name": "python",
   "nbconvert_exporter": "python",
   "pygments_lexer": "ipython3",
   "version": "3.10.6"
  },
  "orig_nbformat": 4,
  "vscode": {
   "interpreter": {
    "hash": "7defa1a2a8e4a1bb956967327feafc32b8e565009fa48258845f5d815b926459"
   }
  }
 },
 "nbformat": 4,
 "nbformat_minor": 2
}
